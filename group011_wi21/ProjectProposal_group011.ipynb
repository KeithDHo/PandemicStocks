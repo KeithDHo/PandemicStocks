{
 "cells": [
  {
   "cell_type": "markdown",
   "metadata": {},
   "source": [
    "# COGS 108 - Final Project Proposal"
   ]
  },
  {
   "cell_type": "markdown",
   "metadata": {},
   "source": [
    "# Names\n",
    "\n",
    "- Alan Tsui\n",
    "- Edmond Choi\n",
    "- Keith Ho\n",
    "- Kelly Kong\n",
    "- Nari Kim"
   ]
  },
  {
   "cell_type": "markdown",
   "metadata": {},
   "source": [
    "# Research Question"
   ]
  },
  {
   "cell_type": "markdown",
   "metadata": {},
   "source": [
    "How has COVID19 affected mental health?"
   ]
  },
  {
   "cell_type": "markdown",
   "metadata": {},
   "source": [
    "## Background and Prior Work"
   ]
  },
  {
   "cell_type": "markdown",
   "metadata": {},
   "source": [
    "COVID-19 is a worldwide pandemic that was originally found in China, but has since spread to the rest of the world. While many countries have recovered and returned to some degree of normalcy, the United States continues to struggle with increasing numbers of infections every day. The virus causes various respiratory issues that are not only harmful, but is potentially fatal to many. To combat the spread of the virus, the government has issued lockdown measures and stay at home orders. This lockdown has caused schools, businesses, and companies to close down. Furthermore, people have been ordered to remain home limit contact to just their households. With such measures of isolation, it is only natural for social creatures like humans to feel lonely and depressed, so we set out to prove this by asking how has COVID-19 affected mental health? \n",
    "\n",
    "As students going through this pandemic, this topic is especially important to us because the high-stress environment school brings was typically combatted through our friendships and communities we form at school. However, with the pandemic shutting down schools, students struggle to find ways to cope with their newfound loneliness. In addition, students not only have to worry about their academic wellbeing but also stress over the coronavirus itself and the deaths it may bring. A poll done by KFF stated that “53% of adults in the US reported that their mental health has been negatively impacted due to worry and stress over the coronavirus” (1). This suggests that many students such as ourselves are prone to deteriorating mental health as we have to endure through such stressful times due to the additional factors that have impacted our lives. Through KFF’s research, they were able to learn that the pandemic would result in both long term and short term effects on mental health. This article relates to our project as we are trying to find research similar to what they have done in their study. \n",
    "\n",
    "Outside of student issues, understanding the correlation between mental health and Covid 19 can help us better combat the virus. Understanding the mental health implications of the virus can help us better understand what measures will be effective or not. If we are able to understand irrational behavior that increases the risk of virus spread, then we are able to find ways to counteract that reckless behavior. Often, patients don’t take their medicine due to behavior that stems from depression. A research study done in the “International Journal of Clinical and Health Psychology, Volume 21” indicates that “rates of depression in the general population might be 7 times higher during the COVID-19 outbreak” (2). This shows how the relationship between COVID-19 and mental health is a two way street in that COVID-19 can have a significant impact on depression rates and vice versa. This study “supports the need for integration of mental health considerations into COVID-19 care, including the monitoring of psychological symptoms and social needs within the general population” (2). However, this study is a meta-analyses that pools data from very broad forms of measure. The study relies on polls, self-reports, and various assessment tools that could dilute the data. While this study is a good starting point to base our hypothesis on, it is by no means the most accurate representation of the data available. \n",
    "\n",
    "References (include links):\n",
    "- 1) https://www.kff.org/coronavirus-covid-19/issue-brief/the-implications-of-covid-19-for-mental-health-and-substance-use/\n",
    "- 2) https://www.ncbi.nlm.nih.gov/pmc/articles/PMC7458054/ "
   ]
  },
  {
   "cell_type": "markdown",
   "metadata": {},
   "source": [
    "# Hypothesis\n"
   ]
  },
  {
   "cell_type": "markdown",
   "metadata": {},
   "source": [
    "Our hypothesis is that the number of COVID-19 cases is positively correlated with the number of health care providers being diagnosed with depressive disorders. "
   ]
  },
  {
   "cell_type": "markdown",
   "metadata": {},
   "source": [
    "# Data"
   ]
  },
  {
   "cell_type": "markdown",
   "metadata": {},
   "source": [
    "In order to accurately answer our research questions, we would want a largely (not sure what's considered appropriately big for a population) sampled unbiased dataset in order to best represent whether or not there’s a correlation between mental health and COVID-19 cases as a population. Although it is hard to get a perfect dataset with unbiasedness due to the different types of missingness in data, this is what we would ideally strive for. \n",
    "\n",
    "We would want our dataset to track the progression of COVID-19 cases (e.g. # of cases each month globally/nationally?) as well as mental health cases in order to see the relationship between the two main attributes. Because mental health has such a large range of conditions and can be a covert topic, it’s hard to simplify the factors of mental health into a column. However, in an ideal dataset, we would have a column that accurately displays the respondent’s state of mental health and whether or not COVID-19 has affected them during that period of time. Whether they have/had COVID or if their family member has COVID and what state their mental health is in at the time. \n",
    "\n",
    "The data would ideally be collected through a poll of the whole population. A sample of the whole population would be unrealistic, so we aim to at least get samples from various communities such as different locations, different age groups, different ethnic backgrounds, etc.  This ensures that our dataset would be unbiased and as close to a representation of the whole population as possible. Ideally, these polls could be done online or be mailed and everyone would fill this out accurately. \n",
    "\n",
    "Ideally, we could organize our data using a line plot to measure the progression of COVID-19 cases and the quantitative trend of mental health diagnosis over time. \n"
   ]
  },
  {
   "cell_type": "markdown",
   "metadata": {},
   "source": [
    "# Ethics & Privacy"
   ]
  },
  {
   "cell_type": "markdown",
   "metadata": {},
   "source": [
    "The coronavirus data is taken from a compiled dataset of public data published by various federal institutions and international health agencies. It contains international data broken down by its nationality that covers the infection, death, and recovered rates of each day. Since mass testing was not available until much later in respect to the first confirmation of coronavirus, the early data heavily lags behind the reality of the given situation. Thus the sudden increase in certain points of the data represents the availability of testing, rather than a sudden increase of coronavirus cases. But as testing became more available, these outliers and sudden influxes ironed out, as it then showed a consistent infection rate throughout the nation and across the world. Certain nations lag behind some others due to lack of testing, distance from origin of virus, and its response to the virus. Some are able to control the spread a lot quicker than others with stricter lockdown implementations, while others are still struggling to deal with the first wave of the spread of the virus. Though different responses yielded different results, the spread within all nations followed a similar trend of different proportions.\n",
    "\n",
    "The mental health dataset is sampled from people who sought treatment or was diagnosed with said illness. Thus there is an inherent bias towards people who can afford therapy and diagnosis of said mental health issues. Dataset is also not comprehensive enough to extrapolate across different nations as many nations lack such data due to various economical and even systematic reasons. As such the correlation, if exists, is specific to wealthier, first world countries. \n",
    "\n",
    "These issues could be corrected by acknowledging such issues, rather than blindly extrapolating such findings. Outliers have to be explained and justified if removed.\n"
   ]
  },
  {
   "cell_type": "markdown",
   "metadata": {},
   "source": [
    "# Team Expectations "
   ]
  },
  {
   "cell_type": "markdown",
   "metadata": {},
   "source": [
    "* *Team Expectation 1: Show up to each meeting on time with new ideas to present or suggestions*\n",
    "* *Team Expectation 2: Do assigned work before next meeting if any*\n",
    "* *Team Expectation 3: Share information and communicate effectively if there is any updates on correspondence with TAs* \n",
    "* *Team Expectation 4: Notify teammates if someone can’t make a meeting*\n",
    "* *Team Expectation 5: Communicate if any issues* \n"
   ]
  },
  {
   "cell_type": "markdown",
   "metadata": {},
   "source": [
    "# Project Timeline Proposal"
   ]
  },
  {
   "cell_type": "markdown",
   "metadata": {},
   "source": [
    "| Meeting Date  | Meeting Time| Completed Before Meeting  | Discuss at Meeting |\n",
    "|---|---|---|---|\n",
    "| 1/25  |  3 PM | Read & Think about COGS 108 expectations; brainstorm topics/questions  | Discuss and finalize topic ideas for the project proposal. Finish project proposal. | \n",
    "| 2/1  |  3 PM |  Each member must find at least two datasets to use for project. |Discuss datasets we’ve found and finalize which ones to use. Finish Checkpoint #1 (due Feb 12). | \n",
    "| 2/10  | 3 PM  | Edit, finalize, and submit proposal; Search for datasets  | Discuss Wrangling and possible analytical approaches; Assign group members to lead each specific part   |\n",
    "| 2/14  | 3 PM  | Import & Wrangle Data; EDA | Review/Edit wrangling/EDA; Discuss Analysis Plan   |\n",
    "| 2/23  | 3 PM  | Finalize wrangling/EDA; Begin Analysis| Discuss/edit Analysis; Complete project check-in |\n",
    "| 3/13  | 3 PM  | Complete analysis; Draft results/conclusion/discussion | Discuss/edit full project |\n",
    "| 3/19  | Before 11:59 PM  | NA | Turn in Final Project & Group Project Surveys |"
   ]
  }
 ],
 "metadata": {
  "kernelspec": {
   "display_name": "Python 3",
   "language": "python",
   "name": "python3"
  },
  "language_info": {
   "codemirror_mode": {
    "name": "ipython",
    "version": 3
   },
   "file_extension": ".py",
   "mimetype": "text/x-python",
   "name": "python",
   "nbconvert_exporter": "python",
   "pygments_lexer": "ipython3",
   "version": "3.8.5"
  }
 },
 "nbformat": 4,
 "nbformat_minor": 2
}
